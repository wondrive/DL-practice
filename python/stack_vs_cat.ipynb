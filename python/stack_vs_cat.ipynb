{
  "nbformat": 4,
  "nbformat_minor": 0,
  "metadata": {
    "colab": {
      "provenance": [],
      "gpuType": "T4"
    },
    "kernelspec": {
      "name": "python3",
      "display_name": "Python 3"
    },
    "language_info": {
      "name": "python"
    },
    "accelerator": "GPU",
    "gpuClass": "standard"
  },
  "cells": [
    {
      "cell_type": "code",
      "execution_count": 2,
      "metadata": {
        "id": "hhVDBGVhHlU_"
      },
      "outputs": [],
      "source": [
        "import torch\n",
        "x = torch.tensor([[1, 2], [3, 4], [5, 6]])    # shape: (3, 2), dim: 2\n",
        "y = torch.tensor([[7,8], [9, 10], [11, 12]])"
      ]
    },
    {
      "cell_type": "markdown",
      "source": [
        "# **1. stack**  \n",
        "\n",
        "지정한 dim 인자에 차원을 한 개 추가하여 cat 하는 것과 같음"
      ],
      "metadata": {
        "id": "VbNVo36JHnOQ"
      }
    },
    {
      "cell_type": "markdown",
      "source": [
        "**예1. dim=0 결합**  \n",
        "기존 `x.shape=(3, 2)`의 첫 번째 차원(dim=0)에 차원 추가를 해준다.  \n",
        "그러면 `x'.shape=(1, 3, 2)`가 되며 y도 마찬가지로 `y'.shape(1, 3, 2)`가 된다.  \n",
        "x'와 y'를 결합하면 `shape=(2, 3, 2)`가 된다.  \n",
        "굉장히 단순하다."
      ],
      "metadata": {
        "id": "gtqDKLLtJZFI"
      }
    },
    {
      "cell_type": "code",
      "source": [
        "z = torch.stack([x, y], dim=0)\n",
        "print(z.shape); print(z)"
      ],
      "metadata": {
        "colab": {
          "base_uri": "https://localhost:8080/"
        },
        "id": "KcPQcf-rHpq4",
        "outputId": "e91e6314-50a7-48d0-c58f-f368b314d0b6"
      },
      "execution_count": 3,
      "outputs": [
        {
          "output_type": "stream",
          "name": "stdout",
          "text": [
            "torch.Size([2, 3, 2])\n",
            "tensor([[[ 1,  2],\n",
            "         [ 3,  4],\n",
            "         [ 5,  6]],\n",
            "\n",
            "        [[ 7,  8],\n",
            "         [ 9, 10],\n",
            "         [11, 12]]])\n"
          ]
        }
      ]
    },
    {
      "cell_type": "code",
      "source": [
        "z = torch.stack([x, y], dim=1)\n",
        "print(z.shape); print(z)"
      ],
      "metadata": {
        "colab": {
          "base_uri": "https://localhost:8080/"
        },
        "id": "DSE143i4IHTY",
        "outputId": "4ff92912-40a3-4c3a-f25d-7bbd815db97c"
      },
      "execution_count": 4,
      "outputs": [
        {
          "output_type": "stream",
          "name": "stdout",
          "text": [
            "torch.Size([3, 2, 2])\n",
            "tensor([[[ 1,  2],\n",
            "         [ 7,  8]],\n",
            "\n",
            "        [[ 3,  4],\n",
            "         [ 9, 10]],\n",
            "\n",
            "        [[ 5,  6],\n",
            "         [11, 12]]])\n"
          ]
        }
      ]
    },
    {
      "cell_type": "code",
      "source": [
        "z = torch.stack([x, y], dim=2)\n",
        "print(z.shape); print(z)"
      ],
      "metadata": {
        "colab": {
          "base_uri": "https://localhost:8080/"
        },
        "id": "yoTnVgFzIJpw",
        "outputId": "cad38bfb-1023-4dd1-c2d7-89323e0eb66b"
      },
      "execution_count": 5,
      "outputs": [
        {
          "output_type": "stream",
          "name": "stdout",
          "text": [
            "torch.Size([3, 2, 2])\n",
            "tensor([[[ 1,  7],\n",
            "         [ 2,  8]],\n",
            "\n",
            "        [[ 3,  9],\n",
            "         [ 4, 10]],\n",
            "\n",
            "        [[ 5, 11],\n",
            "         [ 6, 12]]])\n"
          ]
        }
      ]
    },
    {
      "cell_type": "markdown",
      "source": [
        "# **2. cat**  \n",
        "\n",
        "차원 추가 없이 해당 dim 차원의 원소 간 결합"
      ],
      "metadata": {
        "id": "3hfkyjbAHpXY"
      }
    },
    {
      "cell_type": "code",
      "source": [
        "z = torch.cat([x, y], dim=0)\n",
        "print(z.shape); print(z)"
      ],
      "metadata": {
        "colab": {
          "base_uri": "https://localhost:8080/"
        },
        "id": "3XVd0A-dH-9F",
        "outputId": "a9e83616-c902-4d2d-bf68-519c99618691"
      },
      "execution_count": 6,
      "outputs": [
        {
          "output_type": "stream",
          "name": "stdout",
          "text": [
            "torch.Size([6, 2])\n",
            "tensor([[ 1,  2],\n",
            "        [ 3,  4],\n",
            "        [ 5,  6],\n",
            "        [ 7,  8],\n",
            "        [ 9, 10],\n",
            "        [11, 12]])\n"
          ]
        }
      ]
    },
    {
      "cell_type": "code",
      "source": [
        "z = torch.cat([x, y], dim=0)\n",
        "print(z.shape); print(z)"
      ],
      "metadata": {
        "colab": {
          "base_uri": "https://localhost:8080/"
        },
        "id": "cHtglbVuIPn4",
        "outputId": "c6221957-89ac-42cc-f66d-6f5761ad2989"
      },
      "execution_count": 7,
      "outputs": [
        {
          "output_type": "stream",
          "name": "stdout",
          "text": [
            "torch.Size([6, 2])\n",
            "tensor([[ 1,  2],\n",
            "        [ 3,  4],\n",
            "        [ 5,  6],\n",
            "        [ 7,  8],\n",
            "        [ 9, 10],\n",
            "        [11, 12]])\n"
          ]
        }
      ]
    },
    {
      "cell_type": "markdown",
      "source": [
        "# **3. cat으로 stack 구현하기**"
      ],
      "metadata": {
        "id": "SojCoSycIQpY"
      }
    },
    {
      "cell_type": "markdown",
      "source": [
        "텐서에 차원을 추가하여 cat 수행"
      ],
      "metadata": {
        "id": "Mk6qKgyJKcQn"
      }
    },
    {
      "cell_type": "code",
      "source": [
        "dim = 0     # 결합할 차원\n",
        "\n",
        "x2 = x.unsqueeze(dim)   # stack 처럼 차원 추가 \n",
        "y2 = y.unsqueeze(dim)\n",
        "\n",
        "z = torch.cat([x2, y2], dim=0)\n",
        "print(z.shape); print(z)"
      ],
      "metadata": {
        "colab": {
          "base_uri": "https://localhost:8080/"
        },
        "id": "xIj9FB7uIf94",
        "outputId": "27f20019-850b-4f26-a541-9e668d571072"
      },
      "execution_count": 9,
      "outputs": [
        {
          "output_type": "stream",
          "name": "stdout",
          "text": [
            "torch.Size([2, 3, 2])\n",
            "tensor([[[ 1,  2],\n",
            "         [ 3,  4],\n",
            "         [ 5,  6]],\n",
            "\n",
            "        [[ 7,  8],\n",
            "         [ 9, 10],\n",
            "         [11, 12]]])\n"
          ]
        }
      ]
    },
    {
      "cell_type": "markdown",
      "source": [
        "stack과 비교"
      ],
      "metadata": {
        "id": "hiLKaDKZKfcn"
      }
    },
    {
      "cell_type": "code",
      "source": [
        "z = torch.stack([x, y], dim=0)\n",
        "print(z.shape); print(z)"
      ],
      "metadata": {
        "colab": {
          "base_uri": "https://localhost:8080/"
        },
        "id": "EfsQsI54I0Od",
        "outputId": "7ae7f662-bf55-4517-c39d-f4a9cf1d7233"
      },
      "execution_count": 11,
      "outputs": [
        {
          "output_type": "stream",
          "name": "stdout",
          "text": [
            "torch.Size([2, 3, 2])\n",
            "tensor([[[ 1,  2],\n",
            "         [ 3,  4],\n",
            "         [ 5,  6]],\n",
            "\n",
            "        [[ 7,  8],\n",
            "         [ 9, 10],\n",
            "         [11, 12]]])\n"
          ]
        }
      ]
    },
    {
      "cell_type": "code",
      "source": [],
      "metadata": {
        "id": "XOk1qD2rKUrn"
      },
      "execution_count": null,
      "outputs": []
    }
  ]
}
